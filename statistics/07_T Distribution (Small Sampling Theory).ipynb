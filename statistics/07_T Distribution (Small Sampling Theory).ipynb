{
 "cells": [
  {
   "cell_type": "markdown",
   "metadata": {},
   "source": [
    "#### Let's learn the T-distribution! Note: Learn about the normal distribution first!"
   ]
  },
  {
   "cell_type": "markdown",
   "metadata": {},
   "source": [
    "For previous distributions the sample size was assumed large (N>30). For sample sizes that are less than 30, otherwise (N<30). Note: Sometimes the t-distribution is known as the student distribution."
   ]
  },
  {
   "cell_type": "markdown",
   "metadata": {},
   "source": [
    "The t-distribution allows for use of small samples, but does so by sacrificing certainty with a margin-of-error trade-off. The t-distribution takes into account the sample size using n-1 degrees of freedom, which means there is a different t-distribution for every different sample size. If we see the t-distribution against a normal distribution, you'll notice the tail ends increase as the peak get 'squished' down. \n",
    "\n",
    "It's important to note, that as n gets larger, the t-distribution converges into a normal distribution."
   ]
  },
  {
   "cell_type": "markdown",
   "metadata": {},
   "source": [
    "To further explain degrees of freedom and how it relates tothe t-distribution, you can think of degrees of freedom as an adjustment to the sample size, such as (n-1). This is connected to the idea that we are estimating something of a larger population, in practice it gives a slightly larger margin of error in the estimate."
   ]
  },
  {
   "cell_type": "markdown",
   "metadata": {},
   "source": [
    "Let's define a new variable called t, where\n",
    ":\n",
    "$$t=\\frac{\\overline{X}-\\mu}{s}\\sqrt{N-1}=\\frac{\\overline{X}-\\mu}{s/\\sqrt{N}}$$"
   ]
  },
  {
   "cell_type": "markdown",
   "metadata": {},
   "source": [
    "which is analogous to the z statistic given by $$z=\\frac{\\overline{X}-\\mu}{\\sigma/\\sqrt{N}}$$"
   ]
  },
  {
   "cell_type": "markdown",
   "metadata": {},
   "source": [
    "The sampling distribution for t can be obtained:"
   ]
  },
  {
   "cell_type": "markdown",
   "metadata": {
    "collapsed": true
   },
   "source": [
    "## $$  f(t) = \\frac {\\varGamma(\\frac{v+1}{2})}{\\sqrt{v\\pi}\\varGamma(\\frac{v}{2})} (1+\\frac{t^2}{v})^{-\\frac{v+1}{2}}$$"
   ]
  },
  {
   "cell_type": "markdown",
   "metadata": {},
   "source": [
    "Where the gamma function is: $$\\varGamma(n)=(n-1)!$$"
   ]
  },
  {
   "cell_type": "markdown",
   "metadata": {},
   "source": [
    "And v is the number of degrees of freedom, typically equal to N-1. "
   ]
  },
  {
   "cell_type": "markdown",
   "metadata": {},
   "source": [
    "Similar to a z-score table used with a normal distribution, a t-distribution uses a t-table. Knowing the degrees of freedom and the desired cumulative probability (e.g. P(T >= t) ) we can find the value of t. Here is an example of a lookup table for a t-distribution: "
   ]
  },
  {
   "cell_type": "markdown",
   "metadata": {},
   "source": [
    "http://www.sjsu.edu/faculty/gerstman/StatPrimer/t-table.pdf\n"
   ]
  },
  {
   "cell_type": "markdown",
   "metadata": {},
   "source": [
    "Now let's see how to get the t-distribution in Python using scipy!"
   ]
  },
  {
   "cell_type": "code",
   "execution_count": 5,
   "metadata": {},
   "outputs": [
    {
     "data": {
      "text/plain": [
       "[<matplotlib.lines.Line2D at 0x15d9e5c0>]"
      ]
     },
     "execution_count": 5,
     "metadata": {},
     "output_type": "execute_result"
    },
    {
     "data": {
      "image/png": "[encoded data removed]",
      "text/plain": [
       "<matplotlib.figure.Figure at 0x15c2cd68>"
      ]
     },
     "metadata": {},
     "output_type": "display_data"
    }
   ],
   "source": [
    "#Import for plots\n",
    "import matplotlib.pyplot as plt\n",
    "%matplotlib inline\n",
    "\n",
    "#Import the stats library\n",
    "from scipy.stats import t\n",
    "\n",
    "#import numpy\n",
    "import numpy as np\n",
    "\n",
    "# Create x range\n",
    "x = np.linspace(-5,5,100)\n",
    "\n",
    "# Create the t distribution with scipy\n",
    "rv = t(3)\n",
    "\n",
    "# Plot the PDF versus the x range\n",
    "plt.plot(x, rv.pdf(x))"
   ]
  },
  {
   "cell_type": "markdown",
   "metadata": {},
   "source": [
    "Additional resources can be found here:\n",
    "\n",
    "1.) http://en.wikipedia.org/wiki/Student%27s_t-distribution\n",
    "\n",
    "2.) http://mathworld.wolfram.com/Studentst-Distribution.html\n",
    "\n",
    "3.) http://stattrek.com/probability-distributions/t-distribution.aspx"
   ]
  },
  {
   "cell_type": "code",
   "execution_count": null,
   "metadata": {
    "collapsed": true
   },
   "outputs": [],
   "source": []
  }
 ],
 "metadata": {
  "kernelspec": {
   "display_name": "Python 3",
   "language": "python",
   "name": "python3"
  },
  "language_info": {
   "codemirror_mode": {
    "name": "ipython",
    "version": 3
   },
   "file_extension": ".py",
   "mimetype": "text/x-python",
   "name": "python",
   "nbconvert_exporter": "python",
   "pygments_lexer": "ipython3",
   "version": "3.7.1"
  }
 },
 "nbformat": 4,
 "nbformat_minor": 1
}
