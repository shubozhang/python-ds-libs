{
 "cells": [
  {
   "cell_type": "markdown",
   "metadata": {},
   "source": [
    "# **Discrete Uniform Distributions**\n",
    "Definition: A random variable X has a discrete uniform distribution if each of the n values in its range: $$x_{1},x_{2},x_{3}....x_{n}$$ has equal probability: \n",
    "\n",
    "$$ f(x_{i}) = 1/n $$\n",
    "\n",
    "Now let's use python to show a simple example!"
   ]
  },
  {
   "cell_type": "markdown",
   "metadata": {},
   "source": [
    "## 1. imports:"
   ]
  },
  {
   "cell_type": "code",
   "execution_count": 10,
   "metadata": {},
   "outputs": [],
   "source": [
    "# Import all the usual imports from the Python for Data Analysis and Visualization Course.\n",
    "from __future__ import division\n",
    "import numpy as np\n",
    "from numpy.random import randn\n",
    "import pandas as pd\n",
    "from scipy import stats\n",
    "import matplotlib as mpl\n",
    "import matplotlib.pyplot as plt\n",
    "import seaborn as sns\n",
    "\n",
    "%matplotlib inline"
   ]
  },
  {
   "cell_type": "markdown",
   "metadata": {},
   "source": [
    "## 2. Set up a dice roll and plot the distribution using seaborn."
   ]
  },
  {
   "cell_type": "code",
   "execution_count": 11,
   "metadata": {},
   "outputs": [
    {
     "data": {
      "text/plain": [
       "[Text(0, 0.5, 'Probability'),\n",
       " Text(0.5, 0, 'Roll options'),\n",
       " Text(0.5, 1.0, 'Probability Mass Function for Dice Roll')]"
      ]
     },
     "execution_count": 11,
     "metadata": {},
     "output_type": "execute_result"
    },
    {
     "data": {
      "image/png": "[encoded data removed]",
      "text/plain": [
       "<Figure size 432x288 with 1 Axes>"
      ]
     },
     "metadata": {
      "needs_background": "light"
     },
     "output_type": "display_data"
    }
   ],
   "source": [
    "# How about a roll of a dice?\n",
    "\n",
    "# Let's check out the Probability Mass function!\n",
    "\n",
    "# Each number\n",
    "roll_options = [1,2,3,4,5,6]\n",
    "\n",
    "# Total probability space\n",
    "p_total = 1\n",
    "\n",
    "# Each roll has same odds of appearing (on a fair die at least)\n",
    "p_roll = p_total / len(roll_options)\n",
    "\n",
    "# Plot using seaborn rugplot (note this is not really a rugplot), setting height equal to probability of roll\n",
    "uni_plot = sns.rugplot(roll_options,height=p_roll,c='indianred')\n",
    "\n",
    "# Set Title\n",
    "uni_plot.set(xlabel='Roll options', ylabel='Probability', title='Probability Mass Function for Dice Roll')\n"
   ]
  },
  {
   "cell_type": "markdown",
   "metadata": {},
   "source": [
    "We can see in the above example that the ``f(x)`` value on the plot is just equal to 1/(Total Possible Outcomes)"
   ]
  },
  {
   "cell_type": "markdown",
   "metadata": {},
   "source": [
    "## 3. what's the mean $\\mu$ and variance $\\sigma^2$ of this uniform distribution? "
   ]
  },
  {
   "cell_type": "markdown",
   "metadata": {},
   "source": [
    "The mean is simply the max and min value divided by two, just like the mean of two numbers."
   ]
  },
  {
   "cell_type": "markdown",
   "metadata": {},
   "source": [
    "$$ \\mu = (b+a)/2 $$"
   ]
  },
  {
   "cell_type": "markdown",
   "metadata": {},
   "source": [
    "With a variance of:"
   ]
  },
  {
   "cell_type": "markdown",
   "metadata": {},
   "source": [
    "$$ \\sigma^2=\\frac{(b-a+1)^2 - 1 }{12}$$"
   ]
  },
  {
   "cell_type": "markdown",
   "metadata": {},
   "source": [
    "--------"
   ]
  },
  {
   "cell_type": "markdown",
   "metadata": {},
   "source": [
    "## Now let's see how to automatically create a Discrete Uniform Distribution using Scipy."
   ]
  },
  {
   "cell_type": "code",
   "execution_count": 14,
   "metadata": {},
   "outputs": [
    {
     "name": "stdout",
     "output_type": "stream",
     "text": [
      "The mean is 3.5\n",
      "The variance is 2.9\n"
     ]
    }
   ],
   "source": [
    "# Imports\n",
    "from scipy.stats import randint\n",
    "\n",
    "#Set up a low and high boundary for dice roll ( go to 7 since index starts at 0)\n",
    "low,high = 1,7\n",
    "\n",
    "# Get mean and variance\n",
    "mean,var = randint.stats(low,high)\n",
    "\n",
    "print('The mean is %2.1f' %mean)\n",
    "print(\"The variance is %2.1f\" %var)\n"
   ]
  },
  {
   "cell_type": "code",
   "execution_count": 15,
   "metadata": {},
   "outputs": [
    {
     "data": {
      "text/plain": [
       "<BarContainer object of 6 artists>"
      ]
     },
     "execution_count": 15,
     "metadata": {},
     "output_type": "execute_result"
    },
    {
     "data": {
      "image/png": "[encoded data removed]",
      "text/plain": [
       "<Figure size 432x288 with 1 Axes>"
      ]
     },
     "metadata": {
      "needs_background": "light"
     },
     "output_type": "display_data"
    }
   ],
   "source": [
    "# Now we can make a simple bar plot\n",
    "plt.bar(roll_options,randint.pmf(roll_options,low,high))"
   ]
  },
  {
   "cell_type": "markdown",
   "metadata": {},
   "source": [
    "---------------------------------------------"
   ]
  },
  {
   "cell_type": "markdown",
   "metadata": {},
   "source": [
    "## Example of real world use: German Tank Problem"
   ]
  },
  {
   "cell_type": "markdown",
   "metadata": {},
   "source": [
    "We will use the uniform distribution function to solve the famous German Tank Problem.\n",
    "\n",
    "For background, first read the wikipedia page: http://en.wikipedia.org/wiki/German_tank_problem\n",
    "\n",
    "Excerpt from Wikipedia:\n",
    "\"In the statistical theory of estimation, the problem of estimating the maximum of a discrete uniform distribution from sampling without replacement is known in English as the German tank problem, due to its application in World War II to the estimation of the number of German tanks. Estimating the population maximum based on a single sample yields divergent results, while the estimation based on multiple samples is an instructive practical estimation question whose answer is simple but not obvious.\"\n",
    "\n",
    "After reading the Wikipedia article, check out the following code for an example Python workout of the example problem.\n",
    "\n",
    "### Using a Minimum-variance unbiased estimator we obtain the population max is equal to :\n",
    "\n",
    "$$ Population_\\max = sample_\\max +  \\frac{sample_\\max}{sample_{size}} -1 $$\n",
    "\n",
    "If we for instance captured 5 ($sample_{size}$) tanks with the serial numbers 3,7,11,16 then we know the max observed serial number was $sample_\\max = 16$.\n",
    "\n",
    "This is our sample max with a sample size of 5 tanks. Plugging into the MVUE results in:\n"
   ]
  },
  {
   "cell_type": "code",
   "execution_count": 17,
   "metadata": {},
   "outputs": [
    {
     "data": {
      "text/plain": [
       "18.2"
      ]
     },
     "execution_count": 17,
     "metadata": {},
     "output_type": "execute_result"
    }
   ],
   "source": [
    "total_tank_estimate = 16 + (16/5) - 1\n",
    "total_tank_estimate"
   ]
  },
  {
   "cell_type": "markdown",
   "metadata": {},
   "source": [
    "### For a Bayseian Approach:"
   ]
  },
  {
   "cell_type": "code",
   "execution_count": 19,
   "metadata": {},
   "outputs": [
    {
     "data": {
      "text/plain": [
       "20.0"
      ]
     },
     "execution_count": 19,
     "metadata": {},
     "output_type": "execute_result"
    }
   ],
   "source": [
    "m=16\n",
    "k=5\n",
    "tank_b_estimate = (m-1)*( (k-1)/ ( k-2) )\n",
    "tank_b_estimate"
   ]
  },
  {
   "cell_type": "markdown",
   "metadata": {},
   "source": [
    "Remember, this is still missing the STD"
   ]
  },
  {
   "cell_type": "code",
   "execution_count": null,
   "metadata": {
    "collapsed": true
   },
   "outputs": [],
   "source": []
  }
 ],
 "metadata": {
  "kernelspec": {
   "display_name": "Python 3",
   "language": "python",
   "name": "python3"
  },
  "language_info": {
   "codemirror_mode": {
    "name": "ipython",
    "version": 3
   },
   "file_extension": ".py",
   "mimetype": "text/x-python",
   "name": "python",
   "nbconvert_exporter": "python",
   "pygments_lexer": "ipython3",
   "version": "3.7.1"
  }
 },
 "nbformat": 4,
 "nbformat_minor": 1
}
