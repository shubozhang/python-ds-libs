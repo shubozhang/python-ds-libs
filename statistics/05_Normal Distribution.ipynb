{
 "cells": [
  {
   "cell_type": "markdown",
   "metadata": {
    "collapsed": true
   },
   "source": [
    "# Normal Distribution\n",
    "\n",
    "We'll start with the definition of the PDF, we'll see how to create the distribution in python using scipy and numpy, and discuss some properties of the normal distribution.\n",
    "\n",
    "\n",
    "The distribution is defined by the probability density function equation:\n",
    "\n",
    "## $$  f(x,\\mu,\\sigma) = \\frac{1}{\\sigma\\sqrt{2\\pi}}e^\\frac{-1}{2z^2} $$\n",
    "\n",
    "Where: $$z=\\frac{(X-\\mu)}{\\sigma}$$\n",
    "\n",
    "where: μ=mean , σ=standard deviation , π=3.14... , e=2.718... The total area bounded by curve of the probability density function equation and the X axis is 1; thus the area under the curve between two ordinates X=a and X=b, where a<b, represents the probability that X lies between a and b. This probability can be expressed as: $$Pr(a<X<b)$$\n",
    "\n",
    "Let's look at the curve. The normal distribution has several characteristics:\n",
    "\n",
    "1.) It has a lower tail (on the left) and an upper tail (on the right)\n",
    "2.) The curve is symmetric (for the theoretical distribution)\n",
    "3.) The peak occurs at the mean.\n",
    "4.) The standard deviation gives the curve a different shape:\n",
    "    -Narrow and tall for a smaller standard deviation.\n",
    "    -Shallower and fatter for a larger standard deviation.\n",
    "5.) The area under the curve is equal to 1 (the total probaility space)\n",
    "6.) The mean=median=mode.\n",
    "\n",
    "\n",
    "For the normal distribution, we can see what percentage of values lie between +/- a standard deviation. 68% of the values lie within 1 TSD, 95% between 2 STDs, and 99.7% between 3 STDs. The number of standard deviations is also called the z-score, which we saw above in the PDF."
   ]
  },
  {
   "cell_type": "code",
   "execution_count": 1,
   "metadata": {},
   "outputs": [
    {
     "data": {
      "text/html": [
       "<img src=\"http://upload.wikimedia.org/wikipedia/commons/thumb/2/25/The_Normal_Distribution.svg/725px-The_Normal_Distribution.svg.png\"/>"
      ],
      "text/plain": [
       "<IPython.core.display.Image object>"
      ]
     },
     "execution_count": 1,
     "metadata": {},
     "output_type": "execute_result"
    }
   ],
   "source": [
    "from IPython.display import Image\n",
    "Image(url='http://upload.wikimedia.org/wikipedia/commons/thumb/2/25/The_Normal_Distribution.svg/725px-The_Normal_Distribution.svg.png')"
   ]
  },
  {
   "cell_type": "markdown",
   "metadata": {},
   "source": [
    "## Create a normal distribution"
   ]
  },
  {
   "cell_type": "code",
   "execution_count": 5,
   "metadata": {},
   "outputs": [
    {
     "data": {
      "text/plain": [
       "[<matplotlib.lines.Line2D at 0x28115f38828>]"
      ]
     },
     "execution_count": 5,
     "metadata": {},
     "output_type": "execute_result"
    },
    {
     "data": {
      "image/png": "[encoded data removed]",
      "text/plain": [
       "<Figure size 432x288 with 1 Axes>"
      ]
     },
     "metadata": {
      "needs_background": "light"
     },
     "output_type": "display_data"
    }
   ],
   "source": [
    "#Import\n",
    "import matplotlib as mpl\n",
    "import matplotlib.pyplot as plt\n",
    "%matplotlib inline\n",
    "import seaborn as sns\n",
    "#Import the stats library\n",
    "from scipy import stats\n",
    "import numpy as np\n",
    "\n",
    "# Set the mean\n",
    "mean = 0\n",
    "\n",
    "#Set the standard deviation\n",
    "std = 1\n",
    "\n",
    "\n",
    "# Create a range\n",
    "X = np.arange(-4,4,0.01)\n",
    "\n",
    "#Create the normal distribution for the range\n",
    "Y = stats.norm.pdf(X,mean,std)\n",
    "\n",
    "#\n",
    "plt.plot(X,Y)\n"
   ]
  },
  {
   "cell_type": "markdown",
   "metadata": {},
   "source": [
    "Now let's learn how to use numpy to create the normal distribution."
   ]
  },
  {
   "cell_type": "code",
   "execution_count": 7,
   "metadata": {},
   "outputs": [
    {
     "data": {
      "text/plain": [
       "(array([ 1.,  2.,  1.,  2.,  2.,  1.,  5.,  2.,  4.,  1.,  7., 10., 13.,\n",
       "        12., 21., 24., 18., 29., 29., 23., 24., 37., 32., 49., 48., 61.,\n",
       "        48., 50., 46., 60., 35., 42., 29., 31., 34., 38., 20., 22., 16.,\n",
       "        20.,  5., 10.,  9.,  9.,  7.,  4.,  3.,  1.,  0.,  3.]),\n",
       " array([-0.31417155, -0.30240074, -0.29062992, -0.27885911, -0.2670883 ,\n",
       "        -0.25531749, -0.24354668, -0.23177587, -0.22000506, -0.20823425,\n",
       "        -0.19646344, -0.18469263, -0.17292181, -0.161151  , -0.14938019,\n",
       "        -0.13760938, -0.12583857, -0.11406776, -0.10229695, -0.09052614,\n",
       "        -0.07875533, -0.06698452, -0.05521371, -0.04344289, -0.03167208,\n",
       "        -0.01990127, -0.00813046,  0.00364035,  0.01541116,  0.02718197,\n",
       "         0.03895278,  0.05072359,  0.0624944 ,  0.07426522,  0.08603603,\n",
       "         0.09780684,  0.10957765,  0.12134846,  0.13311927,  0.14489008,\n",
       "         0.15666089,  0.1684317 ,  0.18020251,  0.19197332,  0.20374414,\n",
       "         0.21551495,  0.22728576,  0.23905657,  0.25082738,  0.26259819,\n",
       "         0.274369  ]),\n",
       " <a list of 50 Patch objects>)"
      ]
     },
     "execution_count": 7,
     "metadata": {},
     "output_type": "execute_result"
    },
    {
     "data": {
      "image/png": "[encoded data removed]",
      "text/plain": [
       "<Figure size 432x288 with 1 Axes>"
      ]
     },
     "metadata": {
      "needs_background": "light"
     },
     "output_type": "display_data"
    }
   ],
   "source": [
    "#Set the mean and the standard deviaiton\n",
    "mu,sigma = 0,0.1\n",
    "\n",
    "# Now grab 1000 random numbers from the normal distribution\n",
    "norm_set = np.random.normal(mu,sigma,1000)\n",
    "\n",
    "plt.hist(norm_set,bins=50)"
   ]
  },
  {
   "cell_type": "markdown",
   "metadata": {
    "collapsed": true
   },
   "source": [
    "There's a ton on information to go over for the normal distribution, this notebook should just serve as a very mild introduction, for more info check out the following sources:\n",
    "\n",
    "1.) http://en.wikipedia.org/wiki/Normal_distribution\n",
    "\n",
    "2.) http://mathworld.wolfram.com/NormalDistribution.html\n",
    "\n",
    "3.) http://stattrek.com/probability-distributions/normal.aspx"
   ]
  },
  {
   "cell_type": "markdown",
   "metadata": {},
   "source": [
    "Thanks!"
   ]
  }
 ],
 "metadata": {
  "kernelspec": {
   "display_name": "Python 3",
   "language": "python",
   "name": "python3"
  },
  "language_info": {
   "codemirror_mode": {
    "name": "ipython",
    "version": 3
   },
   "file_extension": ".py",
   "mimetype": "text/x-python",
   "name": "python",
   "nbconvert_exporter": "python",
   "pygments_lexer": "ipython3",
   "version": "3.7.1"
  }
 },
 "nbformat": 4,
 "nbformat_minor": 1
}
